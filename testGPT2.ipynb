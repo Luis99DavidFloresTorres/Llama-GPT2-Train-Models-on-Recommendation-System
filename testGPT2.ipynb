{
 "cells": [
  {
   "cell_type": "code",
   "id": "initial_id",
   "metadata": {
    "collapsed": true,
    "ExecuteTime": {
     "end_time": "2024-06-19T20:52:35.916028Z",
     "start_time": "2024-06-19T20:52:22.759308Z"
    }
   },
   "source": [
    "import pandas as pd\n",
    "import numpy as np\n",
    "from transformers import AutoTokenizer, AutoModelForCausalLM, Trainer, TrainingArguments, \\\n",
    "    DataCollatorForLanguageModeling"
   ],
   "outputs": [],
   "execution_count": 1
  },
  {
   "metadata": {
    "ExecuteTime": {
     "end_time": "2024-06-19T20:52:36.265952Z",
     "start_time": "2024-06-19T20:52:35.916028Z"
    }
   },
   "cell_type": "code",
   "source": "df = pd.read_csv('preguntas_respuesta2')",
   "id": "13f6fede5880f6e",
   "outputs": [],
   "execution_count": 2
  },
  {
   "metadata": {
    "ExecuteTime": {
     "end_time": "2024-06-19T20:52:36.281713Z",
     "start_time": "2024-06-19T20:52:36.265952Z"
    }
   },
   "cell_type": "code",
   "source": "dfPR= df['pregunta']+df['respuesta']",
   "id": "540c7dedc9cded5b",
   "outputs": [],
   "execution_count": 3
  },
  {
   "metadata": {
    "ExecuteTime": {
     "end_time": "2024-06-19T20:52:44.396613Z",
     "start_time": "2024-06-19T20:52:36.281713Z"
    }
   },
   "cell_type": "code",
   "source": [
    "model_name = \"LuisDavidFT777/gpt2-spanish-medium\"\n",
    "tokenizer = AutoTokenizer.from_pretrained('DeepESP/gpt2-spanish-medium')\n",
    "model = AutoModelForCausalLM.from_pretrained(model_name)"
   ],
   "id": "c6a1907ece47dd91",
   "outputs": [],
   "execution_count": 4
  },
  {
   "metadata": {
    "ExecuteTime": {
     "end_time": "2024-06-19T20:52:44.408981Z",
     "start_time": "2024-06-19T20:52:44.396613Z"
    }
   },
   "cell_type": "code",
   "source": "df['pregunta'].loc[17353]",
   "id": "1a1860ab2a212c6c",
   "outputs": [
    {
     "data": {
      "text/plain": [
       "'<humano> Dame una recomendacion de este curso <nombre> Maestría en Ingeniería Estructural, Subsede La Paz, Versión VI <asistente> '"
      ]
     },
     "execution_count": 5,
     "metadata": {},
     "output_type": "execute_result"
    }
   ],
   "execution_count": 5
  },
  {
   "metadata": {
    "ExecuteTime": {
     "end_time": "2024-06-19T20:55:39.357655Z",
     "start_time": "2024-06-19T20:55:39.344475Z"
    }
   },
   "cell_type": "code",
   "source": "input = tokenizer(a, padding='max_length', return_tensors='pt')",
   "id": "cfd34ba8d5abae94",
   "outputs": [],
   "execution_count": 19
  },
  {
   "metadata": {
    "ExecuteTime": {
     "end_time": "2024-06-19T20:55:33.689809Z",
     "start_time": "2024-06-19T20:55:33.681998Z"
    }
   },
   "cell_type": "code",
   "source": "a = \"'<humano> Dame una recomendacion de este curso <nombre> Sistemas de información geografica <asistente> \"",
   "id": "88612d5ca0e60a12",
   "outputs": [],
   "execution_count": 18
  },
  {
   "metadata": {
    "ExecuteTime": {
     "end_time": "2024-06-19T20:55:40.447898Z",
     "start_time": "2024-06-19T20:55:40.436396Z"
    }
   },
   "cell_type": "code",
   "source": [
    "generation_config = model.generation_config\n",
    "generation_config.max_new_tokens=100\n",
    "generation_config.pad_token_id=tokenizer.eos_token_id\n",
    "generation_config.eos_token_id=tokenizer.eos_token_id\n",
    "generation_config.num_return_sequence=1\n",
    "generation_config.top_p=0.1\n",
    "generation_config.top_k= 1 \n",
    "generation_config.temperature=0.1\n",
    "generation_config.do_sample=True"
   ],
   "id": "32f70d92e96bd853",
   "outputs": [],
   "execution_count": 20
  },
  {
   "metadata": {
    "ExecuteTime": {
     "end_time": "2024-06-19T20:55:53.839327Z",
     "start_time": "2024-06-19T20:55:40.825488Z"
    }
   },
   "cell_type": "code",
   "source": "output = model.generate(input.input_ids, generation_config=generation_config)",
   "id": "ceb0d5d90dad2b36",
   "outputs": [],
   "execution_count": 21
  },
  {
   "metadata": {
    "ExecuteTime": {
     "end_time": "2024-06-19T20:55:53.849176Z",
     "start_time": "2024-06-19T20:55:53.839327Z"
    }
   },
   "cell_type": "code",
   "source": "output",
   "id": "cc6cba0924993fea",
   "outputs": [
    {
     "data": {
      "text/plain": [
       "tensor([[   16,    37,  8704,   506,    39, 23402,   363, 19634,   419,   268,\n",
       "           747,  5576,  3217, 32444,    39, 26329,   268,  3121,  4545,   963,\n",
       "           415,  3217,   278, 14263,    39,   230,  3217,  6512,   365,    39,\n",
       "          8740,  3261,  3217,    24,  6512,   365,    39,  3217,   274,   898,\n",
       "            39,  4907,  8879,  3217,    24,   274,   898,    39,  3217,   387,\n",
       "           413,    72,   506,    72,  6512,   334,   419,    39,  1584,    22,\n",
       "          7934,  3217,    24,   387,   413,    72,   506,    72,  6512,   334,\n",
       "           419,    39,  3217,   387,   413,    72,  2153,    39,  3873,    22,\n",
       "          4663,  3217,    24,   387,   413,    72,  2153,    39,  3217,    79,\n",
       "          1800,    39,  3217,    79,  1800,    39,  3217,    79,  1800,    39,\n",
       "          3217,    79,  1800,    39,  3873,    22,  4663,  3217,    24,   387,\n",
       "           413,    72,  2153,    39,  3217,    79,  1800,    39,  3217,    79,\n",
       "          1800,    39,  3217,    79,  1800,    39]])"
      ]
     },
     "execution_count": 22,
     "metadata": {},
     "output_type": "execute_result"
    }
   ],
   "execution_count": 22
  },
  {
   "metadata": {
    "ExecuteTime": {
     "end_time": "2024-06-19T20:55:53.859079Z",
     "start_time": "2024-06-19T20:55:53.850208Z"
    }
   },
   "cell_type": "code",
   "source": "tokenizer.decode(output[0])",
   "id": "b95e846b7735a92b",
   "outputs": [
    {
     "data": {
      "text/plain": [
       "\"'<humano> Dame una recomendacion de este curso <nombre> Sistemas de información geografica <asistente>  <titulo> ingeniero civil </titulo> <area> tecnológicas </area> <rango_ano_titulacion> 2010-2016 </rango_ano_titulacion> <rango_edad> 33-39 </rango_edad> <final> <final> <final> <final> 33-39 </rango_edad> <final> <final> <final>\""
      ]
     },
     "execution_count": 23,
     "metadata": {},
     "output_type": "execute_result"
    }
   ],
   "execution_count": 23
  },
  {
   "metadata": {},
   "cell_type": "code",
   "outputs": [],
   "execution_count": null,
   "source": "",
   "id": "bf09f8a1149dd78e"
  }
 ],
 "metadata": {
  "kernelspec": {
   "display_name": "Python 3",
   "language": "python",
   "name": "python3"
  },
  "language_info": {
   "codemirror_mode": {
    "name": "ipython",
    "version": 2
   },
   "file_extension": ".py",
   "mimetype": "text/x-python",
   "name": "python",
   "nbconvert_exporter": "python",
   "pygments_lexer": "ipython2",
   "version": "2.7.6"
  }
 },
 "nbformat": 4,
 "nbformat_minor": 5
}
