{
 "cells": [
  {
   "cell_type": "code",
   "id": "initial_id",
   "metadata": {
    "collapsed": true,
    "ExecuteTime": {
     "end_time": "2024-06-11T13:19:09.096484Z",
     "start_time": "2024-06-11T13:19:03.833939Z"
    }
   },
   "source": [
    "import pandas as pd\n",
    "import numpy as np"
   ],
   "outputs": [],
   "execution_count": 1
  },
  {
   "metadata": {
    "ExecuteTime": {
     "end_time": "2024-06-11T13:19:24.161004Z",
     "start_time": "2024-06-11T13:19:09.103048Z"
    }
   },
   "cell_type": "code",
   "source": "from transformers import AutoTokenizer, AutoModelForCausalLM,Trainer, TrainingArguments, DataCollatorForLanguageModeling",
   "id": "9fb985cf2f5a86d",
   "outputs": [],
   "execution_count": 2
  },
  {
   "metadata": {
    "ExecuteTime": {
     "end_time": "2024-06-11T13:19:24.171187Z",
     "start_time": "2024-06-11T13:19:24.161004Z"
    }
   },
   "cell_type": "code",
   "source": "from datasets import Dataset",
   "id": "11e5ace0813f5f01",
   "outputs": [],
   "execution_count": 3
  },
  {
   "metadata": {
    "ExecuteTime": {
     "end_time": "2024-06-11T13:19:54.080342Z",
     "start_time": "2024-06-11T13:19:45.701064Z"
    }
   },
   "cell_type": "code",
   "source": [
    "tokenizer = AutoTokenizer.from_pretrained(\"DeepESP/gpt2-spanish-medium\")\n",
    "model = AutoModelForCausalLM.from_pretrained(\"LuisDavidFT777/gpt2-spanish-medium\")"
   ],
   "id": "58a6e26c53153849",
   "outputs": [],
   "execution_count": 15
  },
  {
   "metadata": {
    "ExecuteTime": {
     "end_time": "2024-06-11T13:41:08.229742Z",
     "start_time": "2024-06-11T13:41:07.618940Z"
    }
   },
   "cell_type": "code",
   "source": "df = pd.read_csv('preguntas_respuesta')\n",
   "id": "c0fa4a0c4bd46d6f",
   "outputs": [],
   "execution_count": 33
  },
  {
   "metadata": {
    "ExecuteTime": {
     "end_time": "2024-06-11T13:41:30.674796Z",
     "start_time": "2024-06-11T13:41:30.636127Z"
    }
   },
   "cell_type": "code",
   "source": " df.groupby('nombretitulo')['nombrearea'].agg(list)",
   "id": "a160437491f95dae",
   "outputs": [
    {
     "data": {
      "text/plain": [
       "nombretitulo\n",
       "Abogado                                          [Humanidades y Sociales, Humanidades y Sociale...\n",
       "Administrador Educativo                          [Humanidades y Sociales, Humanidades y Sociale...\n",
       "Administrador Financiero                         [Ciencias Económicas, Ciencias Económicas, Cie...\n",
       "Administrador de Empresas                        [Ciencias Económicas, Ciencias Económicas, Cie...\n",
       "Analista de Sistemas                             [Tecnológicas, Tecnológicas, Tecnológicas, Tec...\n",
       "                                                                       ...                        \n",
       "Técnico Superior en Topografia                   [Tecnológicas, Tecnológicas, Tecnológicas, Tec...\n",
       "Técnico Superior en Turismo                      [Humanidades y Sociales, Humanidades y Sociale...\n",
       "Técnico Universitario Superior en Gastronomía    [Humanidades y Sociales, Humanidades y Sociale...\n",
       "Técnico superior en Comunicación Radiofónica     [Humanidades y Sociales, Humanidades y Sociale...\n",
       "licenciado en Arte y Diseño Grafico                     [Tecnológicas, Tecnológicas, Tecnológicas]\n",
       "Name: nombrearea, Length: 261, dtype: object"
      ]
     },
     "execution_count": 35,
     "metadata": {},
     "output_type": "execute_result"
    }
   ],
   "execution_count": 35
  },
  {
   "metadata": {
    "ExecuteTime": {
     "end_time": "2024-06-11T13:53:00.690731Z",
     "start_time": "2024-06-11T13:53:00.661398Z"
    }
   },
   "cell_type": "code",
   "source": "df[df['nombrearea']=='Ciencias Agrarias']",
   "id": "ec30db8031127b28",
   "outputs": [
    {
     "data": {
      "text/plain": [
       "       Unnamed: 0                                 nombreuniversidad  \\\n",
       "4               4                              AUTONOMA TOMAS FRIAS   \n",
       "39             39  MAYOR, REAL Y PONTIFICIA DE SAN FRANCISCO XAVIER   \n",
       "61             61  MAYOR, REAL Y PONTIFICIA DE SAN FRANCISCO XAVIER   \n",
       "67             67                      AUTONOMA JUAN MISAEL SARACHO   \n",
       "70             70  MAYOR, REAL Y PONTIFICIA DE SAN FRANCISCO XAVIER   \n",
       "...           ...                                               ...   \n",
       "37652       37652  MAYOR, REAL Y PONTIFICIA DE SAN FRANCISCO XAVIER   \n",
       "37817       37817  MAYOR, REAL Y PONTIFICIA DE SAN FRANCISCO XAVIER   \n",
       "37818       37818  MAYOR, REAL Y PONTIFICIA DE SAN FRANCISCO XAVIER   \n",
       "37875       37875                      AUTONOMA GABRIEL RENE MORENO   \n",
       "37876       37876                      AUTONOMA GABRIEL RENE MORENO   \n",
       "\n",
       "             nombres   paterno    materno  \\\n",
       "4      MODESTO JORGE      DIAZ     ZELADA   \n",
       "39            NESTOR   MIRANDA  INOCENTES   \n",
       "61          REINALDO    LOZANO      AJATA   \n",
       "67      ADOLFO RAMON     MUñOZ      OLLER   \n",
       "70            LORGIO     SOLIZ   BALDERAS   \n",
       "...              ...       ...        ...   \n",
       "37652           LUIS  TERRAZAS     GUERRA   \n",
       "37817         BEIMAK    VARGAS    NEGRETE   \n",
       "37818         BEIMAK    VARGAS    NEGRETE   \n",
       "37875    BRYAN ABATT     LIMON     BARRON   \n",
       "37876    BRYAN ABATT     LIMON     BARRON   \n",
       "\n",
       "                                         nombretitulo  \\\n",
       "4                     Ingeniero en Recursos Naturales   \n",
       "39                             Ingeniero en Zootecnia   \n",
       "61                                 Ingeniero Agrónomo   \n",
       "67                                 Ingeniero Agrónomo   \n",
       "70                  Licenciado en Educación Ambiental   \n",
       "...                                               ...   \n",
       "37652       Licenciado en Administración Agropecuaria   \n",
       "37817                              Ingeniero Agrónomo   \n",
       "37818                              Ingeniero Agrónomo   \n",
       "37875  Licenciado en Medicina Veterinaria y Zootecnia   \n",
       "37876  Licenciado en Medicina Veterinaria y Zootecnia   \n",
       "\n",
       "                                           nombrecarrera   celular  \\\n",
       "4                    Diplomado en Educación Superior V.7  71831895   \n",
       "39                   Diplomado en Educación Superior V.7  75437071   \n",
       "61                   Diplomado en Educación Superior V.7       NaN   \n",
       "67                   Diplomado en Educación Superior V.7  71877812   \n",
       "70                   Diplomado en Educación Superior V.7  71157404   \n",
       "...                                                  ...       ...   \n",
       "37652  Diplomado en Gestión de Procesos de Contrataci...  73117327   \n",
       "37817  Diplomado en Gestión de Procesos de Contrataci...  77139743   \n",
       "37818  Diplomado en educación militar superior, Versi...  77139743   \n",
       "37875  Especialidad en Cirugía y Traumatología Oral y...  78145413   \n",
       "37876  Diplomado en Docencia para Educación Superior ...  78145413   \n",
       "\n",
       "              nombrearea fechanacimiento fechatitulacion  edad  egreso  \\\n",
       "4      Ciencias Agrarias      1964-06-15      1996-09-06    60    1996   \n",
       "39     Ciencias Agrarias      1971-02-22      2003-11-28    53    2003   \n",
       "61     Ciencias Agrarias      1980-10-14      2007-09-19    44    2007   \n",
       "67     Ciencias Agrarias      1961-11-07      1991-11-27    63    1991   \n",
       "70     Ciencias Agrarias      1973-03-14      2015-11-23    51    2015   \n",
       "...                  ...             ...             ...   ...     ...   \n",
       "37652  Ciencias Agrarias      1986-02-25      2009-09-24    38    2009   \n",
       "37817  Ciencias Agrarias      1971-01-01      2019-03-29    53    2019   \n",
       "37818  Ciencias Agrarias      1971-01-01      2019-03-29    53    2019   \n",
       "37875  Ciencias Agrarias      1995-12-15      2023-09-10    29    2023   \n",
       "37876  Ciencias Agrarias      1995-12-15      2023-09-10    29    2023   \n",
       "\n",
       "      edad_rango rango_ano_titulacion  \\\n",
       "4       47-mayor              antiguo   \n",
       "39      47-mayor              antiguo   \n",
       "61         40-46              antiguo   \n",
       "67      47-mayor              antiguo   \n",
       "70      47-mayor            2010-2016   \n",
       "...          ...                  ...   \n",
       "37652      33-39              antiguo   \n",
       "37817   47-mayor          2017-actual   \n",
       "37818   47-mayor          2017-actual   \n",
       "37875   menor-32          2017-actual   \n",
       "37876   menor-32          2017-actual   \n",
       "\n",
       "                                      nombrereemplazados  \\\n",
       "4                    Diplomado en Educación Superior V.7   \n",
       "39                   Diplomado en Educación Superior V.7   \n",
       "61                   Diplomado en Educación Superior V.7   \n",
       "67                   Diplomado en Educación Superior V.7   \n",
       "70                   Diplomado en Educación Superior V.7   \n",
       "...                                                  ...   \n",
       "37652  Diplomado en Gestión de Procesos de Contrataci...   \n",
       "37817  Diplomado en Gestión de Procesos de Contrataci...   \n",
       "37818  Diplomado en educación militar superior, Versi...   \n",
       "37875  Especialidad en Cirugía y Traumatología Oral y...   \n",
       "37876  Diplomado en Docencia para Educación Superior ...   \n",
       "\n",
       "                 nombre_completo  \\\n",
       "4      MODESTO JORGE DIAZ ZELADA   \n",
       "39      NESTOR MIRANDA INOCENTES   \n",
       "61         REINALDO LOZANO AJATA   \n",
       "67      ADOLFO RAMON MUñOZ OLLER   \n",
       "70         LORGIO SOLIZ BALDERAS   \n",
       "...                          ...   \n",
       "37652       LUIS TERRAZAS GUERRA   \n",
       "37817      BEIMAK VARGAS NEGRETE   \n",
       "37818      BEIMAK VARGAS NEGRETE   \n",
       "37875   BRYAN ABATT LIMON BARRON   \n",
       "37876   BRYAN ABATT LIMON BARRON   \n",
       "\n",
       "                                                pregunta  \\\n",
       "4      <humano> Dame una recomendacion de este curso ...   \n",
       "39     <humano> Dame una recomendacion de este curso ...   \n",
       "61     <humano> Dame una recomendacion de este curso ...   \n",
       "67     <humano> Dame una recomendacion de este curso ...   \n",
       "70     <humano> Dame una recomendacion de este curso ...   \n",
       "...                                                  ...   \n",
       "37652  <humano> Dame una recomendacion de este curso ...   \n",
       "37817  <humano> Dame una recomendacion de este curso ...   \n",
       "37818  <humano> Dame una recomendacion de este curso ...   \n",
       "37875  <humano> Dame una recomendacion de este curso ...   \n",
       "37876  <humano> Dame una recomendacion de este curso ...   \n",
       "\n",
       "                                               respuesta  \n",
       "4      <titulo> Ingeniero en Recursos Naturales <area...  \n",
       "39     <titulo> Ingeniero en Zootecnia <area> Ciencia...  \n",
       "61     <titulo> Ingeniero Agrónomo <area> Ciencias Ag...  \n",
       "67     <titulo> Ingeniero Agrónomo <area> Ciencias Ag...  \n",
       "70     <titulo> Licenciado en Educación Ambiental <ar...  \n",
       "...                                                  ...  \n",
       "37652  <titulo> Licenciado en Administración Agropecu...  \n",
       "37817  <titulo> Ingeniero Agrónomo <area> Ciencias Ag...  \n",
       "37818  <titulo> Ingeniero Agrónomo <area> Ciencias Ag...  \n",
       "37875  <titulo> Licenciado en Medicina Veterinaria y ...  \n",
       "37876  <titulo> Licenciado en Medicina Veterinaria y ...  \n",
       "\n",
       "[1188 rows x 19 columns]"
      ],
      "text/html": [
       "<div>\n",
       "<style scoped>\n",
       "    .dataframe tbody tr th:only-of-type {\n",
       "        vertical-align: middle;\n",
       "    }\n",
       "\n",
       "    .dataframe tbody tr th {\n",
       "        vertical-align: top;\n",
       "    }\n",
       "\n",
       "    .dataframe thead th {\n",
       "        text-align: right;\n",
       "    }\n",
       "</style>\n",
       "<table border=\"1\" class=\"dataframe\">\n",
       "  <thead>\n",
       "    <tr style=\"text-align: right;\">\n",
       "      <th></th>\n",
       "      <th>Unnamed: 0</th>\n",
       "      <th>nombreuniversidad</th>\n",
       "      <th>nombres</th>\n",
       "      <th>paterno</th>\n",
       "      <th>materno</th>\n",
       "      <th>nombretitulo</th>\n",
       "      <th>nombrecarrera</th>\n",
       "      <th>celular</th>\n",
       "      <th>nombrearea</th>\n",
       "      <th>fechanacimiento</th>\n",
       "      <th>fechatitulacion</th>\n",
       "      <th>edad</th>\n",
       "      <th>egreso</th>\n",
       "      <th>edad_rango</th>\n",
       "      <th>rango_ano_titulacion</th>\n",
       "      <th>nombrereemplazados</th>\n",
       "      <th>nombre_completo</th>\n",
       "      <th>pregunta</th>\n",
       "      <th>respuesta</th>\n",
       "    </tr>\n",
       "  </thead>\n",
       "  <tbody>\n",
       "    <tr>\n",
       "      <th>4</th>\n",
       "      <td>4</td>\n",
       "      <td>AUTONOMA TOMAS FRIAS</td>\n",
       "      <td>MODESTO JORGE</td>\n",
       "      <td>DIAZ</td>\n",
       "      <td>ZELADA</td>\n",
       "      <td>Ingeniero en Recursos Naturales</td>\n",
       "      <td>Diplomado en Educación Superior V.7</td>\n",
       "      <td>71831895</td>\n",
       "      <td>Ciencias Agrarias</td>\n",
       "      <td>1964-06-15</td>\n",
       "      <td>1996-09-06</td>\n",
       "      <td>60</td>\n",
       "      <td>1996</td>\n",
       "      <td>47-mayor</td>\n",
       "      <td>antiguo</td>\n",
       "      <td>Diplomado en Educación Superior V.7</td>\n",
       "      <td>MODESTO JORGE DIAZ ZELADA</td>\n",
       "      <td>&lt;humano&gt; Dame una recomendacion de este curso ...</td>\n",
       "      <td>&lt;titulo&gt; Ingeniero en Recursos Naturales &lt;area...</td>\n",
       "    </tr>\n",
       "    <tr>\n",
       "      <th>39</th>\n",
       "      <td>39</td>\n",
       "      <td>MAYOR, REAL Y PONTIFICIA DE SAN FRANCISCO XAVIER</td>\n",
       "      <td>NESTOR</td>\n",
       "      <td>MIRANDA</td>\n",
       "      <td>INOCENTES</td>\n",
       "      <td>Ingeniero en Zootecnia</td>\n",
       "      <td>Diplomado en Educación Superior V.7</td>\n",
       "      <td>75437071</td>\n",
       "      <td>Ciencias Agrarias</td>\n",
       "      <td>1971-02-22</td>\n",
       "      <td>2003-11-28</td>\n",
       "      <td>53</td>\n",
       "      <td>2003</td>\n",
       "      <td>47-mayor</td>\n",
       "      <td>antiguo</td>\n",
       "      <td>Diplomado en Educación Superior V.7</td>\n",
       "      <td>NESTOR MIRANDA INOCENTES</td>\n",
       "      <td>&lt;humano&gt; Dame una recomendacion de este curso ...</td>\n",
       "      <td>&lt;titulo&gt; Ingeniero en Zootecnia &lt;area&gt; Ciencia...</td>\n",
       "    </tr>\n",
       "    <tr>\n",
       "      <th>61</th>\n",
       "      <td>61</td>\n",
       "      <td>MAYOR, REAL Y PONTIFICIA DE SAN FRANCISCO XAVIER</td>\n",
       "      <td>REINALDO</td>\n",
       "      <td>LOZANO</td>\n",
       "      <td>AJATA</td>\n",
       "      <td>Ingeniero Agrónomo</td>\n",
       "      <td>Diplomado en Educación Superior V.7</td>\n",
       "      <td>NaN</td>\n",
       "      <td>Ciencias Agrarias</td>\n",
       "      <td>1980-10-14</td>\n",
       "      <td>2007-09-19</td>\n",
       "      <td>44</td>\n",
       "      <td>2007</td>\n",
       "      <td>40-46</td>\n",
       "      <td>antiguo</td>\n",
       "      <td>Diplomado en Educación Superior V.7</td>\n",
       "      <td>REINALDO LOZANO AJATA</td>\n",
       "      <td>&lt;humano&gt; Dame una recomendacion de este curso ...</td>\n",
       "      <td>&lt;titulo&gt; Ingeniero Agrónomo &lt;area&gt; Ciencias Ag...</td>\n",
       "    </tr>\n",
       "    <tr>\n",
       "      <th>67</th>\n",
       "      <td>67</td>\n",
       "      <td>AUTONOMA JUAN MISAEL SARACHO</td>\n",
       "      <td>ADOLFO RAMON</td>\n",
       "      <td>MUñOZ</td>\n",
       "      <td>OLLER</td>\n",
       "      <td>Ingeniero Agrónomo</td>\n",
       "      <td>Diplomado en Educación Superior V.7</td>\n",
       "      <td>71877812</td>\n",
       "      <td>Ciencias Agrarias</td>\n",
       "      <td>1961-11-07</td>\n",
       "      <td>1991-11-27</td>\n",
       "      <td>63</td>\n",
       "      <td>1991</td>\n",
       "      <td>47-mayor</td>\n",
       "      <td>antiguo</td>\n",
       "      <td>Diplomado en Educación Superior V.7</td>\n",
       "      <td>ADOLFO RAMON MUñOZ OLLER</td>\n",
       "      <td>&lt;humano&gt; Dame una recomendacion de este curso ...</td>\n",
       "      <td>&lt;titulo&gt; Ingeniero Agrónomo &lt;area&gt; Ciencias Ag...</td>\n",
       "    </tr>\n",
       "    <tr>\n",
       "      <th>70</th>\n",
       "      <td>70</td>\n",
       "      <td>MAYOR, REAL Y PONTIFICIA DE SAN FRANCISCO XAVIER</td>\n",
       "      <td>LORGIO</td>\n",
       "      <td>SOLIZ</td>\n",
       "      <td>BALDERAS</td>\n",
       "      <td>Licenciado en Educación Ambiental</td>\n",
       "      <td>Diplomado en Educación Superior V.7</td>\n",
       "      <td>71157404</td>\n",
       "      <td>Ciencias Agrarias</td>\n",
       "      <td>1973-03-14</td>\n",
       "      <td>2015-11-23</td>\n",
       "      <td>51</td>\n",
       "      <td>2015</td>\n",
       "      <td>47-mayor</td>\n",
       "      <td>2010-2016</td>\n",
       "      <td>Diplomado en Educación Superior V.7</td>\n",
       "      <td>LORGIO SOLIZ BALDERAS</td>\n",
       "      <td>&lt;humano&gt; Dame una recomendacion de este curso ...</td>\n",
       "      <td>&lt;titulo&gt; Licenciado en Educación Ambiental &lt;ar...</td>\n",
       "    </tr>\n",
       "    <tr>\n",
       "      <th>...</th>\n",
       "      <td>...</td>\n",
       "      <td>...</td>\n",
       "      <td>...</td>\n",
       "      <td>...</td>\n",
       "      <td>...</td>\n",
       "      <td>...</td>\n",
       "      <td>...</td>\n",
       "      <td>...</td>\n",
       "      <td>...</td>\n",
       "      <td>...</td>\n",
       "      <td>...</td>\n",
       "      <td>...</td>\n",
       "      <td>...</td>\n",
       "      <td>...</td>\n",
       "      <td>...</td>\n",
       "      <td>...</td>\n",
       "      <td>...</td>\n",
       "      <td>...</td>\n",
       "      <td>...</td>\n",
       "    </tr>\n",
       "    <tr>\n",
       "      <th>37652</th>\n",
       "      <td>37652</td>\n",
       "      <td>MAYOR, REAL Y PONTIFICIA DE SAN FRANCISCO XAVIER</td>\n",
       "      <td>LUIS</td>\n",
       "      <td>TERRAZAS</td>\n",
       "      <td>GUERRA</td>\n",
       "      <td>Licenciado en Administración Agropecuaria</td>\n",
       "      <td>Diplomado en Gestión de Procesos de Contrataci...</td>\n",
       "      <td>73117327</td>\n",
       "      <td>Ciencias Agrarias</td>\n",
       "      <td>1986-02-25</td>\n",
       "      <td>2009-09-24</td>\n",
       "      <td>38</td>\n",
       "      <td>2009</td>\n",
       "      <td>33-39</td>\n",
       "      <td>antiguo</td>\n",
       "      <td>Diplomado en Gestión de Procesos de Contrataci...</td>\n",
       "      <td>LUIS TERRAZAS GUERRA</td>\n",
       "      <td>&lt;humano&gt; Dame una recomendacion de este curso ...</td>\n",
       "      <td>&lt;titulo&gt; Licenciado en Administración Agropecu...</td>\n",
       "    </tr>\n",
       "    <tr>\n",
       "      <th>37817</th>\n",
       "      <td>37817</td>\n",
       "      <td>MAYOR, REAL Y PONTIFICIA DE SAN FRANCISCO XAVIER</td>\n",
       "      <td>BEIMAK</td>\n",
       "      <td>VARGAS</td>\n",
       "      <td>NEGRETE</td>\n",
       "      <td>Ingeniero Agrónomo</td>\n",
       "      <td>Diplomado en Gestión de Procesos de Contrataci...</td>\n",
       "      <td>77139743</td>\n",
       "      <td>Ciencias Agrarias</td>\n",
       "      <td>1971-01-01</td>\n",
       "      <td>2019-03-29</td>\n",
       "      <td>53</td>\n",
       "      <td>2019</td>\n",
       "      <td>47-mayor</td>\n",
       "      <td>2017-actual</td>\n",
       "      <td>Diplomado en Gestión de Procesos de Contrataci...</td>\n",
       "      <td>BEIMAK VARGAS NEGRETE</td>\n",
       "      <td>&lt;humano&gt; Dame una recomendacion de este curso ...</td>\n",
       "      <td>&lt;titulo&gt; Ingeniero Agrónomo &lt;area&gt; Ciencias Ag...</td>\n",
       "    </tr>\n",
       "    <tr>\n",
       "      <th>37818</th>\n",
       "      <td>37818</td>\n",
       "      <td>MAYOR, REAL Y PONTIFICIA DE SAN FRANCISCO XAVIER</td>\n",
       "      <td>BEIMAK</td>\n",
       "      <td>VARGAS</td>\n",
       "      <td>NEGRETE</td>\n",
       "      <td>Ingeniero Agrónomo</td>\n",
       "      <td>Diplomado en educación militar superior, Versi...</td>\n",
       "      <td>77139743</td>\n",
       "      <td>Ciencias Agrarias</td>\n",
       "      <td>1971-01-01</td>\n",
       "      <td>2019-03-29</td>\n",
       "      <td>53</td>\n",
       "      <td>2019</td>\n",
       "      <td>47-mayor</td>\n",
       "      <td>2017-actual</td>\n",
       "      <td>Diplomado en educación militar superior, Versi...</td>\n",
       "      <td>BEIMAK VARGAS NEGRETE</td>\n",
       "      <td>&lt;humano&gt; Dame una recomendacion de este curso ...</td>\n",
       "      <td>&lt;titulo&gt; Ingeniero Agrónomo &lt;area&gt; Ciencias Ag...</td>\n",
       "    </tr>\n",
       "    <tr>\n",
       "      <th>37875</th>\n",
       "      <td>37875</td>\n",
       "      <td>AUTONOMA GABRIEL RENE MORENO</td>\n",
       "      <td>BRYAN ABATT</td>\n",
       "      <td>LIMON</td>\n",
       "      <td>BARRON</td>\n",
       "      <td>Licenciado en Medicina Veterinaria y Zootecnia</td>\n",
       "      <td>Especialidad en Cirugía y Traumatología Oral y...</td>\n",
       "      <td>78145413</td>\n",
       "      <td>Ciencias Agrarias</td>\n",
       "      <td>1995-12-15</td>\n",
       "      <td>2023-09-10</td>\n",
       "      <td>29</td>\n",
       "      <td>2023</td>\n",
       "      <td>menor-32</td>\n",
       "      <td>2017-actual</td>\n",
       "      <td>Especialidad en Cirugía y Traumatología Oral y...</td>\n",
       "      <td>BRYAN ABATT LIMON BARRON</td>\n",
       "      <td>&lt;humano&gt; Dame una recomendacion de este curso ...</td>\n",
       "      <td>&lt;titulo&gt; Licenciado en Medicina Veterinaria y ...</td>\n",
       "    </tr>\n",
       "    <tr>\n",
       "      <th>37876</th>\n",
       "      <td>37876</td>\n",
       "      <td>AUTONOMA GABRIEL RENE MORENO</td>\n",
       "      <td>BRYAN ABATT</td>\n",
       "      <td>LIMON</td>\n",
       "      <td>BARRON</td>\n",
       "      <td>Licenciado en Medicina Veterinaria y Zootecnia</td>\n",
       "      <td>Diplomado en Docencia para Educación Superior ...</td>\n",
       "      <td>78145413</td>\n",
       "      <td>Ciencias Agrarias</td>\n",
       "      <td>1995-12-15</td>\n",
       "      <td>2023-09-10</td>\n",
       "      <td>29</td>\n",
       "      <td>2023</td>\n",
       "      <td>menor-32</td>\n",
       "      <td>2017-actual</td>\n",
       "      <td>Diplomado en Docencia para Educación Superior ...</td>\n",
       "      <td>BRYAN ABATT LIMON BARRON</td>\n",
       "      <td>&lt;humano&gt; Dame una recomendacion de este curso ...</td>\n",
       "      <td>&lt;titulo&gt; Licenciado en Medicina Veterinaria y ...</td>\n",
       "    </tr>\n",
       "  </tbody>\n",
       "</table>\n",
       "<p>1188 rows × 19 columns</p>\n",
       "</div>"
      ]
     },
     "execution_count": 38,
     "metadata": {},
     "output_type": "execute_result"
    }
   ],
   "execution_count": 38
  },
  {
   "metadata": {
    "ExecuteTime": {
     "end_time": "2024-06-11T13:24:01.513654Z",
     "start_time": "2024-06-11T13:24:01.466422Z"
    }
   },
   "cell_type": "code",
   "source": "df.columns",
   "id": "e9c523026277b5a5",
   "outputs": [
    {
     "data": {
      "text/plain": [
       "Index(['index', 'Unnamed: 0', 'nombreuniversidad', 'nombres', 'paterno',\n",
       "       'materno', 'nombretitulo', 'nombrecarrera', 'celular', 'nombrearea',\n",
       "       'fechanacimiento', 'fechatitulacion', 'edad', 'egreso', 'edad_rango',\n",
       "       'rango_ano_titulacion', 'nombrereemplazados', 'nombre_completo',\n",
       "       'pregunta', 'respuesta', 'text'],\n",
       "      dtype='object')"
      ]
     },
     "execution_count": 20,
     "metadata": {},
     "output_type": "execute_result"
    }
   ],
   "execution_count": 20
  },
  {
   "metadata": {
    "ExecuteTime": {
     "end_time": "2024-06-11T13:26:41.815688Z",
     "start_time": "2024-06-11T13:26:41.803996Z"
    }
   },
   "cell_type": "code",
   "source": "df['nombretitulo'].value_counts",
   "id": "78bf70dd9287f6a5",
   "outputs": [
    {
     "data": {
      "text/plain": [
       "<bound method IndexOpsMixin.value_counts of 0    Técnico Superior en Laboratorio Clinico\n",
       "1                Contador Público Autorizado\n",
       "2                                 Odontólogo\n",
       "3                            Médico Cirujano\n",
       "4            Ingeniero en Recursos Naturales\n",
       "5                                 Odontólogo\n",
       "6                                    Abogado\n",
       "7                            Médico Cirujano\n",
       "8                                 Bioquimico\n",
       "9                Contador Público Autorizado\n",
       "Name: nombretitulo, dtype: object>"
      ]
     },
     "execution_count": 29,
     "metadata": {},
     "output_type": "execute_result"
    }
   ],
   "execution_count": 29
  },
  {
   "metadata": {
    "ExecuteTime": {
     "end_time": "2024-06-11T13:40:26.399106Z",
     "start_time": "2024-06-11T13:40:26.379621Z"
    }
   },
   "cell_type": "code",
   "source": "",
   "id": "fcfaa8f815314295",
   "outputs": [
    {
     "data": {
      "text/plain": [
       "nombretitulo\n",
       "Abogado                                                        [Humanidades y Sociales]\n",
       "Bioquimico                                                       [Ciencias de la Salud]\n",
       "Contador Público Autorizado                  [Ciencias Económicas, Ciencias Económicas]\n",
       "Ingeniero en Recursos Naturales                                     [Ciencias Agrarias]\n",
       "Médico Cirujano                            [Ciencias de la Salud, Ciencias de la Salud]\n",
       "Odontólogo                                 [Ciencias de la Salud, Ciencias de la Salud]\n",
       "Técnico Superior en Laboratorio Clinico                          [Ciencias de la Salud]\n",
       "Name: nombrearea, dtype: object"
      ]
     },
     "execution_count": 32,
     "metadata": {},
     "output_type": "execute_result"
    }
   ],
   "execution_count": 32
  },
  {
   "metadata": {
    "ExecuteTime": {
     "end_time": "2024-06-11T13:19:24.722657Z",
     "start_time": "2024-06-11T13:19:24.695034Z"
    }
   },
   "cell_type": "code",
   "source": "df['text'] = df['pregunta']+df['respuesta']",
   "id": "df7aac07fea39bbf",
   "outputs": [],
   "execution_count": 5
  },
  {
   "metadata": {
    "ExecuteTime": {
     "end_time": "2024-06-11T13:19:24.731987Z",
     "start_time": "2024-06-11T13:19:24.722657Z"
    }
   },
   "cell_type": "code",
   "source": "df = df[0:10]",
   "id": "88d035a1822a5930",
   "outputs": [],
   "execution_count": 6
  },
  {
   "metadata": {
    "ExecuteTime": {
     "end_time": "2024-06-11T13:19:24.749282Z",
     "start_time": "2024-06-11T13:19:24.731987Z"
    }
   },
   "cell_type": "code",
   "source": "df=df.reset_index()",
   "id": "316e36338e153001",
   "outputs": [],
   "execution_count": 7
  },
  {
   "metadata": {
    "ExecuteTime": {
     "end_time": "2024-06-11T13:19:24.760704Z",
     "start_time": "2024-06-11T13:19:24.749282Z"
    }
   },
   "cell_type": "code",
   "source": "nDf= df.loc[:,'text']",
   "id": "27af684f16e42131",
   "outputs": [],
   "execution_count": 8
  },
  {
   "metadata": {
    "ExecuteTime": {
     "end_time": "2024-06-11T13:19:24.773731Z",
     "start_time": "2024-06-11T13:19:24.760704Z"
    }
   },
   "cell_type": "code",
   "source": "list(nDf)",
   "id": "ce52935ff50157f3",
   "outputs": [
    {
     "data": {
      "text/plain": [
       "['<humano> Dame una recomendacion de este curso <nombre>CURSO DE FORMACION CONTINUA EN: \"INTENSIVO EN IDIOMA ORIGINARIO QUECHUA\", VERSION II <asistente> <titulo> Técnico Superior en Laboratorio Clinico <area> Ciencias de la Salud <edad_rango> menor-32 <rango_ano_titulacion> 2017-actual <fin> ',\n",
       " '<humano> Dame una recomendacion de este curso <nombre>Especialización en Corrección Dental <asistente> <titulo> Contador Público Autorizado <area> Ciencias Económicas <edad_rango> 47-mayor <rango_ano_titulacion> antiguo <fin> ',\n",
       " '<humano> Dame una recomendacion de este curso <nombre>Especialización en Enderezamiento Dental <asistente> <titulo> Odontólogo <area> Ciencias de la Salud <edad_rango> 47-mayor <rango_ano_titulacion> antiguo <fin> ',\n",
       " '<humano> Dame una recomendacion de este curso <nombre>Diplomado en Educación Superior V.7 <asistente> <titulo> Médico Cirujano <area> Ciencias de la Salud <edad_rango> 47-mayor <rango_ano_titulacion> antiguo <fin> ',\n",
       " '<humano> Dame una recomendacion de este curso <nombre>Diplomado en Educación Superior V.7 <asistente> <titulo> Ingeniero en Recursos Naturales <area> Ciencias Agrarias <edad_rango> 47-mayor <rango_ano_titulacion> antiguo <fin> ',\n",
       " '<humano> Dame una recomendacion de este curso <nombre>Diplomado en Educación Superior V.7 <asistente> <titulo> Odontólogo <area> Ciencias de la Salud <edad_rango> 40-46 <rango_ano_titulacion> antiguo <fin> ',\n",
       " '<humano> Dame una recomendacion de este curso <nombre>Diplomado en Educación Superior V.7 <asistente> <titulo> Abogado <area> Humanidades y Sociales <edad_rango> 47-mayor <rango_ano_titulacion> antiguo <fin> ',\n",
       " '<humano> Dame una recomendacion de este curso <nombre>Diplomado en Educación Superior V.7 <asistente> <titulo> Médico Cirujano <area> Ciencias de la Salud <edad_rango> 40-46 <rango_ano_titulacion> antiguo <fin> ',\n",
       " '<humano> Dame una recomendacion de este curso <nombre>Diplomado en Educación Superior V.7 <asistente> <titulo> Bioquimico <area> Ciencias de la Salud <edad_rango> 47-mayor <rango_ano_titulacion> antiguo <fin> ',\n",
       " '<humano> Dame una recomendacion de este curso <nombre>Diplomado en Educación Superior V.7 <asistente> <titulo> Contador Público Autorizado <area> Ciencias Económicas <edad_rango> 47-mayor <rango_ano_titulacion> antiguo <fin> ']"
      ]
     },
     "execution_count": 9,
     "metadata": {},
     "output_type": "execute_result"
    }
   ],
   "execution_count": 9
  },
  {
   "metadata": {
    "ExecuteTime": {
     "end_time": "2024-06-11T13:19:24.795031Z",
     "start_time": "2024-06-11T13:19:24.776872Z"
    }
   },
   "cell_type": "code",
   "source": "nDf[1]",
   "id": "3b5a907e00089cc4",
   "outputs": [
    {
     "data": {
      "text/plain": [
       "'<humano> Dame una recomendacion de este curso <nombre>Especialización en Corrección Dental <asistente> <titulo> Contador Público Autorizado <area> Ciencias Económicas <edad_rango> 47-mayor <rango_ano_titulacion> antiguo <fin> '"
      ]
     },
     "execution_count": 10,
     "metadata": {},
     "output_type": "execute_result"
    }
   ],
   "execution_count": 10
  },
  {
   "metadata": {
    "ExecuteTime": {
     "end_time": "2024-06-11T13:19:24.857214Z",
     "start_time": "2024-06-11T13:19:24.802633Z"
    }
   },
   "cell_type": "code",
   "source": "dataset = Dataset.from_pandas(pd.DataFrame({'text': nDf}))",
   "id": "91870fe736bddd9f",
   "outputs": [],
   "execution_count": 11
  },
  {
   "metadata": {
    "ExecuteTime": {
     "end_time": "2024-06-11T13:19:24.870820Z",
     "start_time": "2024-06-11T13:19:24.857214Z"
    }
   },
   "cell_type": "code",
   "source": "dataset",
   "id": "b0c78f1d67bc9865",
   "outputs": [
    {
     "data": {
      "text/plain": [
       "Dataset({\n",
       "    features: ['text'],\n",
       "    num_rows: 10\n",
       "})"
      ]
     },
     "execution_count": 12,
     "metadata": {},
     "output_type": "execute_result"
    }
   ],
   "execution_count": 12
  },
  {
   "metadata": {
    "ExecuteTime": {
     "end_time": "2024-06-11T13:19:24.879190Z",
     "start_time": "2024-06-11T13:19:24.870820Z"
    }
   },
   "cell_type": "code",
   "source": [
    "def tokenize_function(examples):\n",
    "    outputs = tokenizer(examples[\"text\"], padding=\"max_length\", truncation=True, max_length=128)\n",
    "    outputs[\"labels\"] = outputs[\"input_ids\"].copy()\n",
    "    return outputs\n"
   ],
   "id": "85fa0b45d2c5be79",
   "outputs": [],
   "execution_count": 13
  },
  {
   "metadata": {
    "ExecuteTime": {
     "end_time": "2024-06-11T13:19:54.265524Z",
     "start_time": "2024-06-11T13:19:54.083815Z"
    }
   },
   "cell_type": "code",
   "source": "tokenized_datasets = dataset.map(tokenize_function, batched=True, remove_columns=['text'])\n",
   "id": "1a076ab78da0fa8f",
   "outputs": [
    {
     "data": {
      "text/plain": [
       "Map:   0%|          | 0/10 [00:00<?, ? examples/s]"
      ],
      "application/vnd.jupyter.widget-view+json": {
       "version_major": 2,
       "version_minor": 0,
       "model_id": "99dc869c4aaa49de925cc53154f6dcbc"
      }
     },
     "metadata": {},
     "output_type": "display_data"
    }
   ],
   "execution_count": 16
  },
  {
   "metadata": {
    "ExecuteTime": {
     "end_time": "2024-06-11T13:19:54.282253Z",
     "start_time": "2024-06-11T13:19:54.265524Z"
    }
   },
   "cell_type": "code",
   "source": "tokenized_datasets",
   "id": "ee1a83bca63da065",
   "outputs": [
    {
     "data": {
      "text/plain": [
       "Dataset({\n",
       "    features: ['input_ids', 'attention_mask', 'labels'],\n",
       "    num_rows: 10\n",
       "})"
      ]
     },
     "execution_count": 17,
     "metadata": {},
     "output_type": "execute_result"
    }
   ],
   "execution_count": 17
  },
  {
   "metadata": {
    "ExecuteTime": {
     "end_time": "2024-06-11T13:19:54.441345Z",
     "start_time": "2024-06-11T13:19:54.282253Z"
    }
   },
   "cell_type": "code",
   "source": [
    "data_collator = DataCollatorForLanguageModeling(\n",
    "    tokenizer=tokenizer,\n",
    "    mlm=False,  # No queremos enmascarado de lenguaje para GPT-2\n",
    ")\n",
    "training_args = TrainingArguments(\n",
    "    output_dir=\"./results\",  # Directorio donde se guardarán los resultados\n",
    "    overwrite_output_dir=True,\n",
    "    num_train_epochs=1,  # Número de épocas de entrenamiento\n",
    "    per_device_train_batch_size=2,  # Tamaño del lote de entrenamiento por dispositivo\n",
    "    save_steps=1,  # Pasos después de los cuales guardar el modelo\n",
    "    save_total_limit=2,\n",
    "    weight_decay=0.01,\n",
    "    remove_unused_columns=False\n",
    ")\n",
    "\n",
    "# Definir el objeto Trainer y entrenar el modelo\n",
    "trainer = Trainer(\n",
    "    model=model,\n",
    "    tokenizer=tokenizer,\n",
    "    args=training_args,\n",
    "    train_dataset=tokenized_datasets,\n",
    "    data_collator=data_collator\n",
    ")\n",
    "\n",
    "# Entrenar el modelo\n"
   ],
   "id": "67aaec5072dc9e5",
   "outputs": [],
   "execution_count": 18
  },
  {
   "metadata": {
    "ExecuteTime": {
     "end_time": "2024-06-11T13:21:57.001772Z",
     "start_time": "2024-06-11T13:19:54.443357Z"
    }
   },
   "cell_type": "code",
   "source": "trainer.train()\n",
   "id": "4364d238f7d86ae2",
   "outputs": [
    {
     "data": {
      "text/plain": [
       "<IPython.core.display.HTML object>"
      ],
      "text/html": [
       "\n",
       "    <div>\n",
       "      \n",
       "      <progress value='5' max='5' style='width:300px; height:20px; vertical-align: middle;'></progress>\n",
       "      [5/5 01:49, Epoch 1/1]\n",
       "    </div>\n",
       "    <table border=\"1\" class=\"dataframe\">\n",
       "  <thead>\n",
       " <tr style=\"text-align: left;\">\n",
       "      <th>Step</th>\n",
       "      <th>Training Loss</th>\n",
       "    </tr>\n",
       "  </thead>\n",
       "  <tbody>\n",
       "  </tbody>\n",
       "</table><p>"
      ]
     },
     "metadata": {},
     "output_type": "display_data"
    },
    {
     "data": {
      "text/plain": [
       "TrainOutput(global_step=5, training_loss=2.8685184478759767, metrics={'train_runtime': 122.328, 'train_samples_per_second': 0.082, 'train_steps_per_second': 0.041, 'total_flos': 2321751736320.0, 'train_loss': 2.8685184478759767, 'epoch': 1.0})"
      ]
     },
     "execution_count": 19,
     "metadata": {},
     "output_type": "execute_result"
    }
   ],
   "execution_count": 19
  },
  {
   "metadata": {},
   "cell_type": "code",
   "outputs": [],
   "execution_count": null,
   "source": "",
   "id": "2be2f18344ce85f4"
  }
 ],
 "metadata": {
  "kernelspec": {
   "display_name": "Python 3",
   "language": "python",
   "name": "python3"
  },
  "language_info": {
   "codemirror_mode": {
    "name": "ipython",
    "version": 2
   },
   "file_extension": ".py",
   "mimetype": "text/x-python",
   "name": "python",
   "nbconvert_exporter": "python",
   "pygments_lexer": "ipython2",
   "version": "2.7.6"
  }
 },
 "nbformat": 4,
 "nbformat_minor": 5
}
