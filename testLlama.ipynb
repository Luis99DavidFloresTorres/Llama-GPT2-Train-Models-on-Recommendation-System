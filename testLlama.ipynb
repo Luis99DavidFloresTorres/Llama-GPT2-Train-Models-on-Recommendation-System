{
 "cells": [
  {
   "cell_type": "code",
   "id": "initial_id",
   "metadata": {
    "collapsed": true,
    "ExecuteTime": {
     "end_time": "2024-06-12T01:07:59.429568Z",
     "start_time": "2024-06-12T01:07:48.341936Z"
    }
   },
   "source": [
    "import pandas as pd\n",
    "import numpy as np\n",
    "from transformers import AutoTokenizer, AutoModelForCausalLM, Trainer, TrainingArguments, \\\n",
    "    DataCollatorForLanguageModeling"
   ],
   "outputs": [],
   "execution_count": 1
  },
  {
   "metadata": {
    "ExecuteTime": {
     "end_time": "2024-06-12T01:41:40.835473Z",
     "start_time": "2024-06-12T01:41:39.970879Z"
    }
   },
   "cell_type": "code",
   "source": "df = pd.read_csv('preguntas_respuesta')",
   "id": "b1fd4248326b5987",
   "outputs": [],
   "execution_count": 3
  },
  {
   "metadata": {
    "ExecuteTime": {
     "end_time": "2024-06-12T01:42:09.738221Z",
     "start_time": "2024-06-12T01:42:09.720074Z"
    }
   },
   "cell_type": "code",
   "source": "dfPR= df['pregunta']+df['respuesta']",
   "id": "3e83c23ce589eaee",
   "outputs": [],
   "execution_count": 6
  },
  {
   "metadata": {
    "ExecuteTime": {
     "end_time": "2024-06-12T01:08:29.489959Z",
     "start_time": "2024-06-12T01:08:05.897487Z"
    }
   },
   "cell_type": "code",
   "source": [
    "model_name = \"llama\"\n",
    "tokenizer = AutoTokenizer.from_pretrained(model_name)\n",
    "model = AutoModelForCausalLM.from_pretrained(model_name)"
   ],
   "id": "12069aa51b9cbbb9",
   "outputs": [],
   "execution_count": 2
  },
  {
   "metadata": {
    "ExecuteTime": {
     "end_time": "2024-06-12T01:42:37.014195Z",
     "start_time": "2024-06-12T01:42:37.003812Z"
    }
   },
   "cell_type": "code",
   "source": "dfPR.loc[0]",
   "id": "9a20ead3eae099fa",
   "outputs": [
    {
     "data": {
      "text/plain": [
       "'<humano> Dame una recomendacion de este curso <nombre>CURSO DE FORMACION CONTINUA EN: \"INTENSIVO EN IDIOMA ORIGINARIO QUECHUA\", VERSION II <asistente> <titulo> Técnico Superior en Laboratorio Clinico <area> Ciencias de la Salud <edad_rango> menor-32 <rango_ano_titulacion> 2017-actual <fin> '"
      ]
     },
     "execution_count": 7,
     "metadata": {},
     "output_type": "execute_result"
    }
   ],
   "execution_count": 7
  },
  {
   "metadata": {
    "ExecuteTime": {
     "end_time": "2024-06-12T01:47:42.203269Z",
     "start_time": "2024-06-12T01:47:42.193482Z"
    }
   },
   "cell_type": "code",
   "source": "input = tokenizer.encode(df['pregunta'].loc[0], padding='max_length',max_length=128, return_tensors='pt')",
   "id": "afb1ce84f29a1b49",
   "outputs": [],
   "execution_count": 13
  },
  {
   "metadata": {},
   "cell_type": "code",
   "outputs": [],
   "execution_count": null,
   "source": [
    "generation_config = model.generation_config\n",
    "generation_config.max_new_tokens=100\n",
    "generation_config.pad_token_id=tokenizer.eos_token_id\n",
    "generation_config.eos_token_id=tokenizer.eos_token_id\n",
    "generation_config.num_return_sequence=1\n",
    "generation_config.top_p=0.1\n",
    "generation_config.top_k= 1 \n",
    "generation_config.temperature=0.1\n",
    "generation_config.do_sample=True"
   ],
   "id": "9f8c0884fff5fb06"
  },
  {
   "metadata": {
    "ExecuteTime": {
     "end_time": "2024-06-12T02:04:01.417945Z",
     "start_time": "2024-06-12T01:47:46.458928Z"
    }
   },
   "cell_type": "code",
   "source": "model.generate(input, generation_config=generation_config)",
   "id": "b168a4b1148a6ee5",
   "outputs": [
    {
     "data": {
      "text/plain": [
       "tensor([[    1,   529, 16063,  ..., 29906, 29900, 29900]])"
      ]
     },
     "execution_count": 14,
     "metadata": {},
     "output_type": "execute_result"
    }
   ],
   "execution_count": 14
  },
  {
   "metadata": {},
   "cell_type": "code",
   "outputs": [],
   "execution_count": null,
   "source": "",
   "id": "aa3a454b3c8b20a6"
  }
 ],
 "metadata": {
  "kernelspec": {
   "display_name": "Python 3",
   "language": "python",
   "name": "python3"
  },
  "language_info": {
   "codemirror_mode": {
    "name": "ipython",
    "version": 2
   },
   "file_extension": ".py",
   "mimetype": "text/x-python",
   "name": "python",
   "nbconvert_exporter": "python",
   "pygments_lexer": "ipython2",
   "version": "2.7.6"
  }
 },
 "nbformat": 4,
 "nbformat_minor": 5
}
